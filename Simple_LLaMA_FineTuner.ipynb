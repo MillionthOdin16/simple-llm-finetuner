{
 "cells": [
  {
   "cell_type": "code",
   "execution_count": null,
   "metadata": {
    "colab": {
     "base_uri": "https://localhost:8080/"
    },
    "id": "qe77im_2YudR",
    "outputId": "9a8f474b-4c29-463e-c36a-25e1e028c4b8"
   },
   "outputs": [],
   "source": [
    "!nvidia-smi"
   ]
  },
  {
   "cell_type": "code",
   "execution_count": null,
   "metadata": {
    "colab": {
     "base_uri": "https://localhost:8080/"
    },
    "id": "3PM_DilAZD8T",
    "outputId": "83c6ff7e-518f-4ceb-ac9d-df22660f5ce5"
   },
   "outputs": [],
   "source": [
    "![[ -d /content/simple-llama-finetuner ]] \\\n",
    "  || git clone https://github.com/MillionthOdin16/simple-llama-finetuner.git /content/simple-llama-finetuner\n",
    "!cd /content/simple-llama-finetuner && git pull && pip install -r requirements.txt"
   ]
  },
  {
   "cell_type": "code",
   "execution_count": null,
   "metadata": {
    "colab": {
     "base_uri": "https://localhost:8080/"
    },
    "id": "BD693wIzZKUK",
    "outputId": "a392bff4-9a5b-4c8f-ecd1-6751517cd254"
   },
   "outputs": [],
   "source": [
    "!cd /content/simple-llama-finetuner && python app.py --share"
   ]
  },
  {
   "cell_type": "code",
   "execution_count": null,
   "metadata": {
    "id": "yhKSDrkKbYkG"
   },
   "outputs": [],
   "source": []
  }
 ],
 "metadata": {
  "accelerator": "GPU",
  "colab": {
   "provenance": []
  },
  "gpuClass": "standard",
  "kernelspec": {
   "display_name": "Python 3",
   "name": "python3"
  },
  "language_info": {
   "name": "python"
  }
 },
 "nbformat": 4,
 "nbformat_minor": 0
}
